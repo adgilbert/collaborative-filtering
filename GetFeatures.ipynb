{
 "cells": [
  {
   "cell_type": "code",
   "execution_count": 4,
   "metadata": {
    "collapsed": true
   },
   "outputs": [],
   "source": [
    "import pandas\n",
    "import numpy\n",
    "import os\n"
   ]
  },
  {
   "cell_type": "code",
   "execution_count": 9,
   "metadata": {
    "collapsed": false
   },
   "outputs": [],
   "source": [
    "cur_dir = os.getcwd()\n",
    "dataset_dir = cur_dir + '/head'\n",
    "ext = '_head'"
   ]
  },
  {
   "cell_type": "code",
   "execution_count": 16,
   "metadata": {
    "collapsed": false
   },
   "outputs": [],
   "source": [
    "users = pandas.read_csv(dataset_dir + '/user' + ext + '.csv')\n",
    "tips = pandas.read_csv(dataset_dir + '/tip' + ext + '.csv')\n",
    "reviews = pandas.read_csv(dataset_dir + '/review' + ext + '.csv')\n",
    "checkins = pandas.read_csv(dataset_dir + '/checkin' + ext + '.csv')\n",
    "businesses = pandas.read_csv(dataset_dir + '/business' + ext + '.csv')"
   ]
  },
  {
   "cell_type": "code",
   "execution_count": 31,
   "metadata": {
    "collapsed": true
   },
   "outputs": [],
   "source": [
    "def get_user_active_weeks_in_city(users, reviews):\n",
    "    \"\"\" \n",
    "    Given a set of users and a set of reviews This function determines the percentage of active weeks that a user\n",
    "    has placed a review in any given city (from the set of all cities which have a review)\n",
    "    \"\"\"\n",
    "    \n",
    "    # collect all cities in the dataset\n",
    "    # For each user get all reviews associated with that user\n",
    "    # Divide those reviews into buckets based off of weeks and cities\n",
    "    # calculate percentage of weeks in each city\n",
    "    pass\n",
    "\n",
    "\n",
    "def get_all_cities(businesses):\n",
    "    \"\"\" Returns a list of all the cities in a dataset \"\"\"\n",
    "    cities = set(businesses['city'])\n",
    "    return cities\n",
    "\n",
    "def cluster_cities(businesses):\n",
    "    "
   ]
  },
  {
   "cell_type": "code",
   "execution_count": 32,
   "metadata": {
    "collapsed": false
   },
   "outputs": [
    {
     "data": {
      "text/plain": [
       "{'Ajax',\n",
       " 'Avondale',\n",
       " 'Beachwood',\n",
       " 'Chandler',\n",
       " 'Charlotte',\n",
       " 'Cleveland',\n",
       " 'Edinburgh',\n",
       " 'Gilbert',\n",
       " 'Las Vegas',\n",
       " 'Madison',\n",
       " 'Matthews',\n",
       " 'Mc Kees Rocks',\n",
       " 'McMurray',\n",
       " 'Mesa',\n",
       " 'Middleton',\n",
       " 'Mississauga',\n",
       " 'Montr\\xc3\\xa9al',\n",
       " 'North York',\n",
       " 'Parma Heights',\n",
       " 'Phoenix',\n",
       " 'Pickering',\n",
       " 'Pineville',\n",
       " 'Pittsburgh',\n",
       " 'Richmond Heights',\n",
       " 'Richmond Hill',\n",
       " 'Rocky River',\n",
       " 'Scottsdale',\n",
       " 'Stanley',\n",
       " 'Toronto'}"
      ]
     },
     "execution_count": 32,
     "metadata": {},
     "output_type": "execute_result"
    }
   ],
   "source": [
    "get_all_cities(businesses)"
   ]
  },
  {
   "cell_type": "code",
   "execution_count": 30,
   "metadata": {
    "collapsed": false
   },
   "outputs": [
    {
     "name": "stdout",
     "output_type": "stream",
     "text": [
      "['postal_code', 'city', 'stars', 'latitude', 'business_id', 'categories', 'name', 'longitude', 'is_open', 'neighborhood', 'review_count', 'state', 'address']\n"
     ]
    }
   ],
   "source": [
    "b = businesses.keys()\n",
    "nonA = [ba for ba in b if 'Attributes' not in ba and 'attributes' not in ba and 'hours' not in ba]\n",
    "nonAdf = businesses[nonA]\n",
    "print(nonA)\n",
    "# print(nonAdf)\n"
   ]
  },
  {
   "cell_type": "code",
   "execution_count": 19,
   "metadata": {
    "collapsed": false
   },
   "outputs": [
    {
     "data": {
      "text/html": [
       "<div>\n",
       "<table border=\"1\" class=\"dataframe\">\n",
       "  <thead>\n",
       "    <tr style=\"text-align: right;\">\n",
       "      <th></th>\n",
       "      <th>funny</th>\n",
       "      <th>user_id</th>\n",
       "      <th>review_id</th>\n",
       "      <th>text</th>\n",
       "      <th>business_id</th>\n",
       "      <th>stars_x</th>\n",
       "      <th>date</th>\n",
       "      <th>useful</th>\n",
       "      <th>cool</th>\n",
       "      <th>hours.Wednesday</th>\n",
       "      <th>...</th>\n",
       "      <th>attributes.Caters</th>\n",
       "      <th>attributes.AcceptsInsurance</th>\n",
       "      <th>attributes.RestaurantsReservations</th>\n",
       "      <th>attributes.Music.video</th>\n",
       "      <th>attributes.Ambience.romantic</th>\n",
       "      <th>attributes.Music.jukebox</th>\n",
       "      <th>attributes.Ambience.upscale</th>\n",
       "      <th>attributes.RestaurantsTakeOut</th>\n",
       "      <th>attributes.BikeParking</th>\n",
       "      <th>attributes.OutdoorSeating</th>\n",
       "    </tr>\n",
       "  </thead>\n",
       "  <tbody>\n",
       "  </tbody>\n",
       "</table>\n",
       "<p>0 rows × 98 columns</p>\n",
       "</div>"
      ],
      "text/plain": [
       "Empty DataFrame\n",
       "Columns: [funny, user_id, review_id, text, business_id, stars_x, date, useful, cool, hours.Wednesday, attributes.Ambience.divey, attributes.Music.live, attributes.HairSpecializesIn.kids, attributes.RestaurantsDelivery, attributes.Ambience.trendy, attributes.DogsAllowed, attributes.CoatCheck, postal_code, attributes.Smoking, hours.Thursday, attributes.HairSpecializesIn.straightperms, city, attributes.HairSpecializesIn.curly, attributes.Music.no_music, hours.Tuesday, attributes.HairSpecializesIn.coloring, attributes.GoodForKids, attributes.BestNights.sunday, attributes.BYOB, attributes.Ambience.casual, attributes.HairSpecializesIn.africanamerican, hours.Friday, stars_y, latitude, attributes.Alcohol, attributes.RestaurantsPriceRange2, attributes.Ambience.classy, attributes.RestaurantsTableService, attributes.GoodForMeal.latenight, attributes.GoodForMeal.dessert, attributes.Ambience.touristy, attributes.BusinessParking.validated, attributes.GoodForMeal.lunch, attributes.RestaurantsGoodForGroups, categories, attributes.GoodForMeal.brunch, name, attributes.BusinessParking.valet, attributes.BusinessAcceptsBitcoin, attributes.HappyHour, longitude, attributes.Ambience.hipster, attributes.BusinessParking.lot, attributes.BestNights.wednesday, is_open, attributes.Ambience.intimate, attributes.Music.background_music, neighborhood, attributes.BusinessParking.garage, attributes.BestNights.friday, attributes.WheelchairAccessible, hours.Monday, attributes.Music.karaoke, hours.Saturday, review_count, attributes.GoodForMeal.breakfast, attributes.NoiseLevel, attributes.Music.dj, attributes.HairSpecializesIn.perms, attributes.HairSpecializesIn.extensions, attributes.BestNights.saturday, state, attributes.BestNights.monday, attributes.BestNights.thursday, attributes.BusinessAcceptsCreditCards, attributes.DriveThru, attributes.HasTV, attributes.WiFi, attributes.GoodForMeal.dinner, attributes.BYOBCorkage, attributes.HairSpecializesIn.asian, attributes.BusinessParking.street, address, attributes.RestaurantsAttire, hours.Sunday, attributes.BestNights.tuesday, attributes.GoodForDancing, attributes.ByAppointmentOnly, attributes.Caters, attributes.AcceptsInsurance, attributes.RestaurantsReservations, attributes.Music.video, attributes.Ambience.romantic, attributes.Music.jukebox, attributes.Ambience.upscale, attributes.RestaurantsTakeOut, attributes.BikeParking, attributes.OutdoorSeating]\n",
       "Index: []\n",
       "\n",
       "[0 rows x 98 columns]"
      ]
     },
     "execution_count": 19,
     "metadata": {},
     "output_type": "execute_result"
    }
   ],
   "source": [
    "reviews.merge(businesses, on='business_id')"
   ]
  },
  {
   "cell_type": "code",
   "execution_count": null,
   "metadata": {
    "collapsed": true
   },
   "outputs": [],
   "source": []
  }
 ],
 "metadata": {
  "anaconda-cloud": {},
  "kernelspec": {
   "display_name": "Python [default]",
   "language": "python",
   "name": "python2"
  },
  "language_info": {
   "codemirror_mode": {
    "name": "ipython",
    "version": 2
   },
   "file_extension": ".py",
   "mimetype": "text/x-python",
   "name": "python",
   "nbconvert_exporter": "python",
   "pygments_lexer": "ipython2",
   "version": "2.7.12"
  }
 },
 "nbformat": 4,
 "nbformat_minor": 1
}
