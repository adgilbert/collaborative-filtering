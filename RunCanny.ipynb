{
 "cells": [
  {
   "cell_type": "code",
   "execution_count": 3,
   "metadata": {
    "collapsed": true
   },
   "outputs": [],
   "source": [
    "import pickle\n",
    "from canny_cf import *\n",
    "%load_ext autoreload\n",
    "%autoreload 2"
   ]
  },
  {
   "cell_type": "code",
   "execution_count": 53,
   "metadata": {
    "collapsed": false
   },
   "outputs": [
    {
     "name": "stdout",
     "output_type": "stream",
     "text": [
      "n=107\n",
      "m=2846\n",
      "k=10\n",
      "Starting Iterations\n",
      "========================\n",
      "iter: 0 \tlam_diff:  31.9443\tpsi_diff:  0.7309\n",
      "iter: 1 \tlam_diff:  6.7005\tpsi_diff:  14.8460\n",
      "iter: 2 \tlam_diff:  6.8908\tpsi_diff:  12.7775\n",
      "iter: 3 \tlam_diff:  2.9141\tpsi_diff:  13.5082\n",
      "iter: 4 \tlam_diff:  2.7850\tpsi_diff:  9.1494\n",
      "iter: 5 \tlam_diff:  1.0687\tpsi_diff:  7.2081\n",
      "iter: 6 \tlam_diff:  0.8036\tpsi_diff:  4.2341\n",
      "iter: 7 \tlam_diff:  0.4334\tpsi_diff:  3.2503\n",
      "iter: 8 \tlam_diff:  0.3457\tpsi_diff:  1.5237\n",
      "iter: 9 \tlam_diff:  0.1465\tpsi_diff:  1.2949\n",
      "iter: 10 \tlam_diff:  0.1357\tpsi_diff:  0.3633\n",
      "iter: 11 \tlam_diff:  0.0572\tpsi_diff:  0.5095\n",
      "iter: 12 \tlam_diff:  0.0675\tpsi_diff:  0.0164\n",
      "iter: 13 \tlam_diff:  0.0446\tpsi_diff:  0.2365\n",
      "iter: 14 \tlam_diff:  0.0464\tpsi_diff:  0.1028\n",
      "iter: 15 \tlam_diff:  0.0393\tpsi_diff:  0.1429\n",
      "iter: 16 \tlam_diff:  0.0374\tpsi_diff:  0.1043\n",
      "iter: 17 \tlam_diff:  0.0341\tpsi_diff:  0.1036\n",
      "iter: 18 \tlam_diff:  0.0319\tpsi_diff:  0.0881\n",
      "iter: 19 \tlam_diff:  0.0296\tpsi_diff:  0.0807\n",
      "iter: 20 \tlam_diff:  0.0277\tpsi_diff:  0.0715\n",
      "iter: 21 \tlam_diff:  0.0260\tpsi_diff:  0.0644\n",
      "iter: 22 \tlam_diff:  0.0245\tpsi_diff:  0.0575\n",
      "iter: 23 \tlam_diff:  0.0231\tpsi_diff:  0.0516\n",
      "iter: 24 \tlam_diff:  0.0218\tpsi_diff:  0.0462\n",
      "iter: 25 \tlam_diff:  0.0207\tpsi_diff:  0.0415\n",
      "iter: 26 \tlam_diff:  0.0197\tpsi_diff:  0.0372\n",
      "iter: 27 \tlam_diff:  0.0187\tpsi_diff:  0.0333\n",
      "iter: 28 \tlam_diff:  0.0178\tpsi_diff:  0.0298\n",
      "iter: 29 \tlam_diff:  0.0170\tpsi_diff:  0.0267\n"
     ]
    }
   ],
   "source": [
    "k = 10 # number of latent factors\n",
    "FNAME = 'data/LasVegas_local.pck'\n",
    "\n",
    "with open(FNAME, 'rb') as pickle_file:\n",
    "    Ycol = pickle.load(pickle_file)\n",
    "\n",
    "# Y is a pandas dataframe array with d0 = users and d1 = businesses\n",
    "# columns are axis 0 in df\n",
    "n, m = Ycol.shape\n",
    "\n",
    "print(\"n={}\\nm={}\\nk={}\".format(n, m, k))\n",
    "\n",
    "Lam, psi = initialize(n, k)\n",
    "# print(Lam.shape)\n",
    "# print(psi.shape)\n",
    "\n",
    "print('Starting Iterations\\n========================')\n",
    "iters = 30\n",
    "lam_diff = np.zeros(iters)\n",
    "psi_diff = np.zeros(iters)\n",
    "for i in range(iters):\n",
    "    new_lam, new_psi = M_step(Ycol, Lam, psi, k, n, m)\n",
    "    lam_diff[i], psi_diff[i] = np.linalg.norm(Lam-new_lam), np.linalg.norm(psi-new_psi)\n",
    "    print('iter: {} \\tlam_diff:  {:.4f}\\tpsi_diff:  {:.4f}'.format(i, lam_diff[i], psi_diff[i]))\n",
    "    Lam, psi = np.array(new_lam), np.array(new_psi)\n",
    "    \n",
    "    "
   ]
  },
  {
   "cell_type": "code",
   "execution_count": null,
   "metadata": {
    "collapsed": true
   },
   "outputs": [],
   "source": []
  },
  {
   "cell_type": "code",
   "execution_count": null,
   "metadata": {
    "collapsed": true
   },
   "outputs": [],
   "source": []
  }
 ],
 "metadata": {
  "kernelspec": {
   "display_name": "Python [conda env:py36]",
   "language": "python",
   "name": "conda-env-py36-py"
  },
  "language_info": {
   "codemirror_mode": {
    "name": "ipython",
    "version": 3
   },
   "file_extension": ".py",
   "mimetype": "text/x-python",
   "name": "python",
   "nbconvert_exporter": "python",
   "pygments_lexer": "ipython3",
   "version": "3.6.3"
  }
 },
 "nbformat": 4,
 "nbformat_minor": 1
}
