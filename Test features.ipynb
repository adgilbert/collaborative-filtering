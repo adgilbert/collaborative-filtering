{
 "cells": [
  {
   "cell_type": "code",
   "execution_count": 3,
   "metadata": {},
   "outputs": [],
   "source": [
    "import os\n",
    "import pandas as pd\n",
    "cur_dir = os.getcwd()\n",
    "dataset_dir = cur_dir\n",
    "\n",
    "users = pd.read_csv(dataset_dir + '/user' + '.csv')\n",
    "biz = pd.read_csv(dataset_dir + '/business' + '.csv')\n",
    "reviews = pd.read_csv(dataset_dir + '/review' + '.csv')"
   ]
  },
  {
   "cell_type": "code",
   "execution_count": 7,
   "metadata": {},
   "outputs": [
    {
     "name": "stdout",
     "output_type": "stream",
     "text": [
      "<class 'pandas.core.frame.DataFrame'>\n",
      "RangeIndex: 156639 entries, 0 to 156638\n",
      "Columns: 101 entries, attributes.Ambience.divey to attributes.OutdoorSeating\n",
      "dtypes: float64(4), int64(2), object(95)\n",
      "memory usage: 120.7+ MB\n"
     ]
    }
   ],
   "source": [
    "biz.info()"
   ]
  },
  {
   "cell_type": "code",
   "execution_count": 10,
   "metadata": {
    "collapsed": true
   },
   "outputs": [],
   "source": [
    "user_df = users[['yelping_since','review_count','average_stars','user_id']]\n",
    "\n",
    "biz_df = biz[['business_id','city','state','postal_code','latitude',\n",
    "                   'longitude','stars','review_count']]\n",
    "biz_df.rename(columns={'review_count':'biz_review_count', \n",
    "                       'stars': 'biz_stars'})\n",
    "review_df = reviews[['review_id','user_id','business_id','stars','date']]\n"
   ]
  },
  {
   "cell_type": "code",
   "execution_count": null,
   "metadata": {
    "collapsed": true
   },
   "outputs": [],
   "source": []
  }
 ],
 "metadata": {
  "kernelspec": {
   "display_name": "Python 3",
   "language": "python",
   "name": "python3"
  },
  "language_info": {
   "codemirror_mode": {
    "name": "ipython",
    "version": 3
   },
   "file_extension": ".py",
   "mimetype": "text/x-python",
   "name": "python",
   "nbconvert_exporter": "python",
   "pygments_lexer": "ipython3",
   "version": "3.6.2"
  }
 },
 "nbformat": 4,
 "nbformat_minor": 2
}
